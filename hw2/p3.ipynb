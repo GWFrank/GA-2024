{
 "cells": [
  {
   "cell_type": "code",
   "execution_count": 1,
   "metadata": {},
   "outputs": [],
   "source": [
    "import numpy as np\n",
    "import pandas as pd\n",
    "from scipy import constants"
   ]
  },
  {
   "cell_type": "code",
   "execution_count": 2,
   "metadata": {},
   "outputs": [
    {
     "data": {
      "text/html": [
       "<div>\n",
       "<style scoped>\n",
       "    .dataframe tbody tr th:only-of-type {\n",
       "        vertical-align: middle;\n",
       "    }\n",
       "\n",
       "    .dataframe tbody tr th {\n",
       "        vertical-align: top;\n",
       "    }\n",
       "\n",
       "    .dataframe thead th {\n",
       "        text-align: right;\n",
       "    }\n",
       "</style>\n",
       "<table border=\"1\" class=\"dataframe\">\n",
       "  <thead>\n",
       "    <tr style=\"text-align: right;\">\n",
       "      <th></th>\n",
       "      <th>EVCC</th>\n",
       "      <th>VCC</th>\n",
       "      <th>NGC</th>\n",
       "      <th>RAJ2000</th>\n",
       "      <th>DEJ2000</th>\n",
       "      <th>Offset</th>\n",
       "      <th>cz</th>\n",
       "      <th>MmI</th>\n",
       "      <th>MmV</th>\n",
       "      <th>MTyp1</th>\n",
       "      <th>...</th>\n",
       "      <th>gmag</th>\n",
       "      <th>rmag</th>\n",
       "      <th>imag</th>\n",
       "      <th>zmag</th>\n",
       "      <th>Rad</th>\n",
       "      <th>R50</th>\n",
       "      <th>DR7</th>\n",
       "      <th>Sloan</th>\n",
       "      <th>Simbad</th>\n",
       "      <th>NED</th>\n",
       "    </tr>\n",
       "  </thead>\n",
       "  <tbody>\n",
       "    <tr>\n",
       "      <th>0</th>\n",
       "      <td>2</td>\n",
       "      <td>0</td>\n",
       "      <td>NaN</td>\n",
       "      <td>175.2362</td>\n",
       "      <td>14.0745</td>\n",
       "      <td>1.346</td>\n",
       "      <td>977.9</td>\n",
       "      <td>M</td>\n",
       "      <td></td>\n",
       "      <td>S</td>\n",
       "      <td>...</td>\n",
       "      <td>16.16</td>\n",
       "      <td>15.82</td>\n",
       "      <td>15.50</td>\n",
       "      <td>15.13</td>\n",
       "      <td>36.20</td>\n",
       "      <td>7.59</td>\n",
       "      <td>DR7</td>\n",
       "      <td>Sloan</td>\n",
       "      <td>Simbad</td>\n",
       "      <td>NED</td>\n",
       "    </tr>\n",
       "    <tr>\n",
       "      <th>1</th>\n",
       "      <td>3</td>\n",
       "      <td>0</td>\n",
       "      <td>3810</td>\n",
       "      <td>175.2449</td>\n",
       "      <td>11.4711</td>\n",
       "      <td>0.481</td>\n",
       "      <td>999.3</td>\n",
       "      <td>M</td>\n",
       "      <td></td>\n",
       "      <td>Sc</td>\n",
       "      <td>...</td>\n",
       "      <td>11.04</td>\n",
       "      <td>10.50</td>\n",
       "      <td>10.24</td>\n",
       "      <td>10.01</td>\n",
       "      <td>137.27</td>\n",
       "      <td>34.31</td>\n",
       "      <td>DR7</td>\n",
       "      <td>Sloan</td>\n",
       "      <td>Simbad</td>\n",
       "      <td>NED</td>\n",
       "    </tr>\n",
       "    <tr>\n",
       "      <th>2</th>\n",
       "      <td>4</td>\n",
       "      <td>0</td>\n",
       "      <td>NaN</td>\n",
       "      <td>175.4609</td>\n",
       "      <td>15.9737</td>\n",
       "      <td>0.469</td>\n",
       "      <td>753.1</td>\n",
       "      <td>M</td>\n",
       "      <td></td>\n",
       "      <td>Irr(HSB)</td>\n",
       "      <td>...</td>\n",
       "      <td>14.60</td>\n",
       "      <td>14.12</td>\n",
       "      <td>13.91</td>\n",
       "      <td>13.77</td>\n",
       "      <td>26.02</td>\n",
       "      <td>5.93</td>\n",
       "      <td>DR7</td>\n",
       "      <td>Sloan</td>\n",
       "      <td>Simbad</td>\n",
       "      <td>NED</td>\n",
       "    </tr>\n",
       "    <tr>\n",
       "      <th>3</th>\n",
       "      <td>5</td>\n",
       "      <td>0</td>\n",
       "      <td>NaN</td>\n",
       "      <td>175.5747</td>\n",
       "      <td>14.9949</td>\n",
       "      <td>16.602</td>\n",
       "      <td>1021.5</td>\n",
       "      <td>M</td>\n",
       "      <td></td>\n",
       "      <td>Irr(LSB)</td>\n",
       "      <td>...</td>\n",
       "      <td>15.54</td>\n",
       "      <td>15.42</td>\n",
       "      <td>15.08</td>\n",
       "      <td>15.52</td>\n",
       "      <td>106.17</td>\n",
       "      <td>22.43</td>\n",
       "      <td>DR7</td>\n",
       "      <td>Sloan</td>\n",
       "      <td>Simbad</td>\n",
       "      <td>NED</td>\n",
       "    </tr>\n",
       "    <tr>\n",
       "      <th>4</th>\n",
       "      <td>6</td>\n",
       "      <td>0</td>\n",
       "      <td>NaN</td>\n",
       "      <td>175.6224</td>\n",
       "      <td>18.3327</td>\n",
       "      <td>1.506</td>\n",
       "      <td>906.5</td>\n",
       "      <td>M</td>\n",
       "      <td></td>\n",
       "      <td>Sc</td>\n",
       "      <td>...</td>\n",
       "      <td>13.32</td>\n",
       "      <td>12.99</td>\n",
       "      <td>12.83</td>\n",
       "      <td>12.95</td>\n",
       "      <td>101.42</td>\n",
       "      <td>21.45</td>\n",
       "      <td>DR7</td>\n",
       "      <td>Sloan</td>\n",
       "      <td>Simbad</td>\n",
       "      <td>NED</td>\n",
       "    </tr>\n",
       "  </tbody>\n",
       "</table>\n",
       "<p>5 rows × 24 columns</p>\n",
       "</div>"
      ],
      "text/plain": [
       "   EVCC  VCC   NGC   RAJ2000  DEJ2000  Offset      cz MmI MmV     MTyp1  ...  \\\n",
       "0     2    0   NaN  175.2362  14.0745   1.346   977.9   M             S  ...   \n",
       "1     3    0  3810  175.2449  11.4711   0.481   999.3   M            Sc  ...   \n",
       "2     4    0   NaN  175.4609  15.9737   0.469   753.1   M      Irr(HSB)  ...   \n",
       "3     5    0   NaN  175.5747  14.9949  16.602  1021.5   M      Irr(LSB)  ...   \n",
       "4     6    0   NaN  175.6224  18.3327   1.506   906.5   M            Sc  ...   \n",
       "\n",
       "    gmag   rmag   imag   zmag     Rad    R50  DR7  Sloan  Simbad  NED  \n",
       "0  16.16  15.82  15.50  15.13   36.20   7.59  DR7  Sloan  Simbad  NED  \n",
       "1  11.04  10.50  10.24  10.01  137.27  34.31  DR7  Sloan  Simbad  NED  \n",
       "2  14.60  14.12  13.91  13.77   26.02   5.93  DR7  Sloan  Simbad  NED  \n",
       "3  15.54  15.42  15.08  15.52  106.17  22.43  DR7  Sloan  Simbad  NED  \n",
       "4  13.32  12.99  12.83  12.95  101.42  21.45  DR7  Sloan  Simbad  NED  \n",
       "\n",
       "[5 rows x 24 columns]"
      ]
     },
     "execution_count": 2,
     "metadata": {},
     "output_type": "execute_result"
    }
   ],
   "source": [
    "virgo_galaxy = pd.read_csv(\"Virgo_galaxy_catalog.csv\")\n",
    "\n",
    "virgo_galaxy.head()"
   ]
  },
  {
   "cell_type": "code",
   "execution_count": 3,
   "metadata": {},
   "outputs": [],
   "source": [
    "R_VIRGO = 2 * 10**6 * constants.parsec # m\n",
    "SOLAR_MASS = 1.9891 * 10**30 # kg"
   ]
  },
  {
   "cell_type": "code",
   "execution_count": 4,
   "metadata": {},
   "outputs": [
    {
     "name": "stdout",
     "output_type": "stream",
     "text": [
      "cz_mean: 1.036195e+03 km/s\n"
     ]
    }
   ],
   "source": [
    "cz_mean = virgo_galaxy[\"cz\"].mean()\n",
    "print(f\"cz_mean: {cz_mean:e} km/s\", )"
   ]
  },
  {
   "cell_type": "code",
   "execution_count": 5,
   "metadata": {},
   "outputs": [
    {
     "name": "stdout",
     "output_type": "stream",
     "text": [
      "cz_std: 5.614492e+02 km/s\n"
     ]
    }
   ],
   "source": [
    "cz_std = virgo_galaxy[\"cz\"].std()\n",
    "print(f\"cz_std: {cz_std:e} km/s\")"
   ]
  },
  {
   "cell_type": "code",
   "execution_count": 6,
   "metadata": {},
   "outputs": [
    {
     "name": "stdout",
     "output_type": "stream",
     "text": [
      "Mass from σ: 4.603509e+14 M☉\n"
     ]
    }
   ],
   "source": [
    "sigma = cz_std * 1000 # m/s\n",
    "M_dynamic = ((constants.pi * sigma**2 * R_VIRGO)/constants.G) # kg\n",
    "print(f\"Mass from σ: {M_dynamic/SOLAR_MASS:e} M☉\")"
   ]
  },
  {
   "cell_type": "code",
   "execution_count": 7,
   "metadata": {},
   "outputs": [],
   "source": [
    "def zmag_to_mass(z_mag):\n",
    "    global solar_mass\n",
    "    d = 20 * 10**6 # pc\n",
    "    zmag_abs = z_mag + 5*np.log10(10/d)\n",
    "    zmag_abs_sun = 4.5\n",
    "    flux_relative_sun = 10**((zmag_abs_sun-zmag_abs)/2.5)\n",
    "    return flux_relative_sun # solar mass\n",
    "\n",
    "mass_arr = virgo_galaxy[\"zmag\"].apply(zmag_to_mass)"
   ]
  },
  {
   "cell_type": "code",
   "execution_count": 8,
   "metadata": {},
   "outputs": [
    {
     "name": "stdout",
     "output_type": "stream",
     "text": [
      "Mass from stars: 3.303712e+12 M☉\n"
     ]
    }
   ],
   "source": [
    "M_star = mass_arr.sum()\n",
    "print(f\"Mass from stars: {M_star:e} M☉\")"
   ]
  }
 ],
 "metadata": {
  "kernelspec": {
   "display_name": "astro",
   "language": "python",
   "name": "python3"
  },
  "language_info": {
   "codemirror_mode": {
    "name": "ipython",
    "version": 3
   },
   "file_extension": ".py",
   "mimetype": "text/x-python",
   "name": "python",
   "nbconvert_exporter": "python",
   "pygments_lexer": "ipython3",
   "version": "3.11.8"
  }
 },
 "nbformat": 4,
 "nbformat_minor": 2
}
